{
 "cells": [
  {
   "cell_type": "markdown",
   "id": "eebd1e0c",
   "metadata": {},
   "source": [
    "# Data Science Tools and Ecosystem"
   ]
  },
  {
   "cell_type": "markdown",
   "id": "8ef06588",
   "metadata": {},
   "source": [
    "In this notebook, Data Science Tools and Ecosystem are summarized."
   ]
  },
  {
   "cell_type": "markdown",
   "id": "26cd54eb",
   "metadata": {},
   "source": [
    "Some of the popular languages that Data Scientists use are:\n",
    "\n",
    "1. Python\n",
    "2. R\n",
    "3. Julia\n",
    "4. SQL (Structured Query Language)\n",
    "5. Scala (for Spark)\n",
    "6. MATLAB\n",
    "7. SAS (Statistical Analysis System)\n",
    "8. Java (for specific data science libraries)\n",
    "9. Ruby (for scripting and data manipulation)\n",
    "10. C/C++ (for performance-critical tasks)\n",
    "\n",
    "These languages are widely used for various aspects of data science, including data manipulation, analysis, visualization, and machine learning.\n"
   ]
  },
  {
   "cell_type": "markdown",
   "id": "344352a9",
   "metadata": {},
   "source": [
    "Some of the commonly used libraries used by Data Scientists include:\n",
    "\n",
    "1. **NumPy**: A fundamental package for numerical computations in Python, providing support for arrays, matrices, and mathematical functions.\n",
    "\n",
    "2. **Pandas**: A powerful library for data manipulation and analysis, offering data structures like DataFrames that simplify handling structured data.\n",
    "\n",
    "3. **Matplotlib**: A popular data visualization library in Python that enables the creation of various types of plots and charts.\n",
    "\n",
    "4. **Seaborn**: Built on top of Matplotlib, Seaborn provides a higher-level interface for creating attractive statistical graphics.\n",
    "\n",
    "5. **Scikit-learn**: A machine learning library that offers simple and efficient tools for data mining and data analysis, including classification, regression, clustering, and more.\n",
    "\n",
    "6. **TensorFlow**: An open-source machine learning framework developed by Google, commonly used for building and training various types of neural networks.\n",
    "\n",
    "7. **PyTorch**: Another popular open-source deep learning framework that provides dynamic computation graphs and is widely used for research and production.\n",
    "\n",
    "8. **Statsmodels**: A library that focuses on estimating and interpreting statistical models, making it valuable for statistical analysis and hypothesis testing.\n",
    "\n",
    "9. **NLTK (Natural Language Toolkit)**: A library for working with human language data, providing tools for text processing and analysis.\n",
    "\n",
    "10. **OpenCV**: An open-source computer vision library that offers various functions for image and video analysis, manipulation, and computer vision tasks.\n",
    "\n",
    "These libraries play a crucial role in enabling data scientists to effectively work with data, analyze it, visualize insights, and build machine learning models.\n"
   ]
  },
  {
   "cell_type": "markdown",
   "id": "55e8703c",
   "metadata": {},
   "source": [
    "| Data Science Tools |\n",
    "|---------------------|\n",
    "| Jupyter Notebook    |\n",
    "| RStudio             |\n",
    "| Visual Studio Code  |\n"
   ]
  },
  {
   "cell_type": "markdown",
   "id": "83869a1f",
   "metadata": {},
   "source": [
    "### Examples of Evaluating Arithmetic Expressions in Python\n",
    "\n",
    "Below are a few examples of evaluating arithmetic expressions in Python:"
   ]
  },
  {
   "cell_type": "code",
   "execution_count": 2,
   "id": "676e4e0e",
   "metadata": {},
   "outputs": [
    {
     "name": "stdout",
     "output_type": "stream",
     "text": [
      "17\n"
     ]
    }
   ],
   "source": [
    "# This is a simple arithmetic expression to multiply then add integers.\n",
    "result = (3 * 4) + 5\n",
    "print(result)"
   ]
  },
  {
   "cell_type": "code",
   "execution_count": 3,
   "id": "a35e4252",
   "metadata": {},
   "outputs": [
    {
     "name": "stdout",
     "output_type": "stream",
     "text": [
      "3.3333333333333335\n"
     ]
    }
   ],
   "source": [
    "# This will convert 200 minutes to hours by dividing by 60.\n",
    "minutes = 200\n",
    "hours = minutes / 60\n",
    "print(hours)"
   ]
  },
  {
   "cell_type": "markdown",
   "id": "8da8aa4c",
   "metadata": {},
   "source": [
    "**Objectives:**\n",
    "\n",
    "- List popular languages for Data Science.\n",
    "- Introduce commonly used libraries in Data Science.\n",
    "- Provide examples of evaluating arithmetic expressions in Python.\n",
    "- Demonstrate converting minutes to hours using Python expressions.\n",
    "\n",
    "These objectives encompass some of the key takeaways from this notebook, offering insights into data science concepts and practical programming tasks."
   ]
  },
  {
   "cell_type": "markdown",
   "id": "aa247070",
   "metadata": {},
   "source": [
    "## Author\n",
    "R. Mortiz"
   ]
  },
  {
   "cell_type": "code",
   "execution_count": null,
   "id": "6f98df68",
   "metadata": {},
   "outputs": [],
   "source": []
  }
 ],
 "metadata": {
  "kernelspec": {
   "display_name": "Python 3 (ipykernel)",
   "language": "python",
   "name": "python3"
  },
  "language_info": {
   "codemirror_mode": {
    "name": "ipython",
    "version": 3
   },
   "file_extension": ".py",
   "mimetype": "text/x-python",
   "name": "python",
   "nbconvert_exporter": "python",
   "pygments_lexer": "ipython3",
   "version": "3.10.12"
  }
 },
 "nbformat": 4,
 "nbformat_minor": 5
}
